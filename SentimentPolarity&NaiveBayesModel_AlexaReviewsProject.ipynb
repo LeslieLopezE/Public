{
 "cells": [
  {
   "cell_type": "code",
   "execution_count": 47,
   "id": "8081c9b7",
   "metadata": {},
   "outputs": [],
   "source": [
    "import pandas as pd\n",
    "import numpy as np\n",
    "import seaborn as sns\n",
    "import matplotlib.pyplot as plt\n",
    "%matplotlib inline\n",
    "from textblob import TextBlob\n",
    "from sklearn.model_selection import train_test_split \n",
    "from textblob.classifiers import NaiveBayesClassifier"
   ]
  },
  {
   "cell_type": "code",
   "execution_count": 7,
   "id": "4709f155",
   "metadata": {},
   "outputs": [],
   "source": [
    "# Input data files are available in the \"../input/\" directory.\n",
    "# For example, running this (by clicking run or pressing Shift+Enter) will list all files under the input directory import os\n",
    "# Any results you write to the current directory are saved as output.\n",
    "\n",
    "#for dirname, _, filenames in os.walk('/kaggle/input'):\n",
    "   # for filename in filenames:\n",
    "   #     print(os.path.join(dirname, filename))"
   ]
  },
  {
   "cell_type": "markdown",
   "id": "0c727265",
   "metadata": {},
   "source": [
    "### Loading dataset"
   ]
  },
  {
   "cell_type": "code",
   "execution_count": 9,
   "id": "d30f65b7",
   "metadata": {
    "scrolled": true
   },
   "outputs": [
    {
     "data": {
      "text/html": [
       "<div>\n",
       "<style scoped>\n",
       "    .dataframe tbody tr th:only-of-type {\n",
       "        vertical-align: middle;\n",
       "    }\n",
       "\n",
       "    .dataframe tbody tr th {\n",
       "        vertical-align: top;\n",
       "    }\n",
       "\n",
       "    .dataframe thead th {\n",
       "        text-align: right;\n",
       "    }\n",
       "</style>\n",
       "<table border=\"1\" class=\"dataframe\">\n",
       "  <thead>\n",
       "    <tr style=\"text-align: right;\">\n",
       "      <th></th>\n",
       "      <th>rating</th>\n",
       "      <th>date</th>\n",
       "      <th>variation</th>\n",
       "      <th>verified_reviews</th>\n",
       "      <th>feedback</th>\n",
       "    </tr>\n",
       "  </thead>\n",
       "  <tbody>\n",
       "    <tr>\n",
       "      <th>0</th>\n",
       "      <td>5</td>\n",
       "      <td>31-Jul-18</td>\n",
       "      <td>Charcoal Fabric</td>\n",
       "      <td>Love my Echo!</td>\n",
       "      <td>1</td>\n",
       "    </tr>\n",
       "    <tr>\n",
       "      <th>1</th>\n",
       "      <td>5</td>\n",
       "      <td>31-Jul-18</td>\n",
       "      <td>Charcoal Fabric</td>\n",
       "      <td>Loved it!</td>\n",
       "      <td>1</td>\n",
       "    </tr>\n",
       "    <tr>\n",
       "      <th>2</th>\n",
       "      <td>4</td>\n",
       "      <td>31-Jul-18</td>\n",
       "      <td>Walnut Finish</td>\n",
       "      <td>Sometimes while playing a game, you can answer...</td>\n",
       "      <td>1</td>\n",
       "    </tr>\n",
       "    <tr>\n",
       "      <th>3</th>\n",
       "      <td>5</td>\n",
       "      <td>31-Jul-18</td>\n",
       "      <td>Charcoal Fabric</td>\n",
       "      <td>I have had a lot of fun with this thing. My 4 ...</td>\n",
       "      <td>1</td>\n",
       "    </tr>\n",
       "    <tr>\n",
       "      <th>4</th>\n",
       "      <td>5</td>\n",
       "      <td>31-Jul-18</td>\n",
       "      <td>Charcoal Fabric</td>\n",
       "      <td>Music</td>\n",
       "      <td>1</td>\n",
       "    </tr>\n",
       "  </tbody>\n",
       "</table>\n",
       "</div>"
      ],
      "text/plain": [
       "   rating       date         variation  \\\n",
       "0       5  31-Jul-18  Charcoal Fabric    \n",
       "1       5  31-Jul-18  Charcoal Fabric    \n",
       "2       4  31-Jul-18    Walnut Finish    \n",
       "3       5  31-Jul-18  Charcoal Fabric    \n",
       "4       5  31-Jul-18  Charcoal Fabric    \n",
       "\n",
       "                                    verified_reviews  feedback  \n",
       "0                                      Love my Echo!         1  \n",
       "1                                          Loved it!         1  \n",
       "2  Sometimes while playing a game, you can answer...         1  \n",
       "3  I have had a lot of fun with this thing. My 4 ...         1  \n",
       "4                                              Music         1  "
      ]
     },
     "execution_count": 9,
     "metadata": {},
     "output_type": "execute_result"
    }
   ],
   "source": [
    "data = pd.read_csv('amazon_alexa.csv')\n",
    "data.head()"
   ]
  },
  {
   "cell_type": "markdown",
   "id": "e7210b76",
   "metadata": {},
   "source": [
    "### Reviewing Metadata"
   ]
  },
  {
   "cell_type": "code",
   "execution_count": 12,
   "id": "65dec8cd",
   "metadata": {},
   "outputs": [
    {
     "data": {
      "text/plain": [
       "(3150, 5)"
      ]
     },
     "execution_count": 12,
     "metadata": {},
     "output_type": "execute_result"
    }
   ],
   "source": [
    "data.shape"
   ]
  },
  {
   "cell_type": "code",
   "execution_count": 10,
   "id": "598c23c7",
   "metadata": {},
   "outputs": [
    {
     "name": "stdout",
     "output_type": "stream",
     "text": [
      "<class 'pandas.core.frame.DataFrame'>\n",
      "RangeIndex: 3150 entries, 0 to 3149\n",
      "Data columns (total 5 columns):\n",
      " #   Column            Non-Null Count  Dtype \n",
      "---  ------            --------------  ----- \n",
      " 0   rating            3150 non-null   int64 \n",
      " 1   date              3150 non-null   object\n",
      " 2   variation         3150 non-null   object\n",
      " 3   verified_reviews  3150 non-null   object\n",
      " 4   feedback          3150 non-null   int64 \n",
      "dtypes: int64(2), object(3)\n",
      "memory usage: 123.2+ KB\n"
     ]
    }
   ],
   "source": [
    "data.info()"
   ]
  },
  {
   "cell_type": "markdown",
   "id": "c02fe081",
   "metadata": {},
   "source": [
    "### Removing Data Column"
   ]
  },
  {
   "cell_type": "code",
   "execution_count": 14,
   "id": "276f2113",
   "metadata": {},
   "outputs": [
    {
     "data": {
      "text/html": [
       "<div>\n",
       "<style scoped>\n",
       "    .dataframe tbody tr th:only-of-type {\n",
       "        vertical-align: middle;\n",
       "    }\n",
       "\n",
       "    .dataframe tbody tr th {\n",
       "        vertical-align: top;\n",
       "    }\n",
       "\n",
       "    .dataframe thead th {\n",
       "        text-align: right;\n",
       "    }\n",
       "</style>\n",
       "<table border=\"1\" class=\"dataframe\">\n",
       "  <thead>\n",
       "    <tr style=\"text-align: right;\">\n",
       "      <th></th>\n",
       "      <th>rating</th>\n",
       "      <th>variation</th>\n",
       "      <th>verified_reviews</th>\n",
       "      <th>feedback</th>\n",
       "    </tr>\n",
       "  </thead>\n",
       "  <tbody>\n",
       "    <tr>\n",
       "      <th>0</th>\n",
       "      <td>5</td>\n",
       "      <td>Charcoal Fabric</td>\n",
       "      <td>Love my Echo!</td>\n",
       "      <td>1</td>\n",
       "    </tr>\n",
       "    <tr>\n",
       "      <th>1</th>\n",
       "      <td>5</td>\n",
       "      <td>Charcoal Fabric</td>\n",
       "      <td>Loved it!</td>\n",
       "      <td>1</td>\n",
       "    </tr>\n",
       "    <tr>\n",
       "      <th>2</th>\n",
       "      <td>4</td>\n",
       "      <td>Walnut Finish</td>\n",
       "      <td>Sometimes while playing a game, you can answer...</td>\n",
       "      <td>1</td>\n",
       "    </tr>\n",
       "    <tr>\n",
       "      <th>3</th>\n",
       "      <td>5</td>\n",
       "      <td>Charcoal Fabric</td>\n",
       "      <td>I have had a lot of fun with this thing. My 4 ...</td>\n",
       "      <td>1</td>\n",
       "    </tr>\n",
       "    <tr>\n",
       "      <th>4</th>\n",
       "      <td>5</td>\n",
       "      <td>Charcoal Fabric</td>\n",
       "      <td>Music</td>\n",
       "      <td>1</td>\n",
       "    </tr>\n",
       "  </tbody>\n",
       "</table>\n",
       "</div>"
      ],
      "text/plain": [
       "   rating         variation  \\\n",
       "0       5  Charcoal Fabric    \n",
       "1       5  Charcoal Fabric    \n",
       "2       4    Walnut Finish    \n",
       "3       5  Charcoal Fabric    \n",
       "4       5  Charcoal Fabric    \n",
       "\n",
       "                                    verified_reviews  feedback  \n",
       "0                                      Love my Echo!         1  \n",
       "1                                          Loved it!         1  \n",
       "2  Sometimes while playing a game, you can answer...         1  \n",
       "3  I have had a lot of fun with this thing. My 4 ...         1  \n",
       "4                                              Music         1  "
      ]
     },
     "execution_count": 14,
     "metadata": {},
     "output_type": "execute_result"
    }
   ],
   "source": [
    "dataset = data.drop('date', axis = 1)\n",
    "dataset.head()"
   ]
  },
  {
   "cell_type": "markdown",
   "id": "8c91648e",
   "metadata": {},
   "source": [
    "### Converting feedback 0,1 to pos,neg"
   ]
  },
  {
   "cell_type": "code",
   "execution_count": 17,
   "id": "4dd89661",
   "metadata": {},
   "outputs": [
    {
     "data": {
      "text/html": [
       "<div>\n",
       "<style scoped>\n",
       "    .dataframe tbody tr th:only-of-type {\n",
       "        vertical-align: middle;\n",
       "    }\n",
       "\n",
       "    .dataframe tbody tr th {\n",
       "        vertical-align: top;\n",
       "    }\n",
       "\n",
       "    .dataframe thead th {\n",
       "        text-align: right;\n",
       "    }\n",
       "</style>\n",
       "<table border=\"1\" class=\"dataframe\">\n",
       "  <thead>\n",
       "    <tr style=\"text-align: right;\">\n",
       "      <th></th>\n",
       "      <th>rating</th>\n",
       "      <th>variation</th>\n",
       "      <th>verified_reviews</th>\n",
       "      <th>feedback</th>\n",
       "    </tr>\n",
       "  </thead>\n",
       "  <tbody>\n",
       "    <tr>\n",
       "      <th>0</th>\n",
       "      <td>5</td>\n",
       "      <td>Charcoal Fabric</td>\n",
       "      <td>Love my Echo!</td>\n",
       "      <td>pos</td>\n",
       "    </tr>\n",
       "    <tr>\n",
       "      <th>1</th>\n",
       "      <td>5</td>\n",
       "      <td>Charcoal Fabric</td>\n",
       "      <td>Loved it!</td>\n",
       "      <td>pos</td>\n",
       "    </tr>\n",
       "    <tr>\n",
       "      <th>2</th>\n",
       "      <td>4</td>\n",
       "      <td>Walnut Finish</td>\n",
       "      <td>Sometimes while playing a game, you can answer...</td>\n",
       "      <td>pos</td>\n",
       "    </tr>\n",
       "  </tbody>\n",
       "</table>\n",
       "</div>"
      ],
      "text/plain": [
       "   rating         variation  \\\n",
       "0       5  Charcoal Fabric    \n",
       "1       5  Charcoal Fabric    \n",
       "2       4    Walnut Finish    \n",
       "\n",
       "                                    verified_reviews feedback  \n",
       "0                                      Love my Echo!      pos  \n",
       "1                                          Loved it!      pos  \n",
       "2  Sometimes while playing a game, you can answer...      pos  "
      ]
     },
     "execution_count": 17,
     "metadata": {},
     "output_type": "execute_result"
    }
   ],
   "source": [
    "dataset['feedback'] = np.where(dataset['feedback'].isin([1]), 'pos', 'neg')\n",
    "dataset.head(3)"
   ]
  },
  {
   "cell_type": "markdown",
   "id": "b4992bfe",
   "metadata": {},
   "source": [
    "## Sentiment Analysis"
   ]
  },
  {
   "cell_type": "markdown",
   "id": "098685b5",
   "metadata": {},
   "source": [
    "### Trying in one review"
   ]
  },
  {
   "cell_type": "code",
   "execution_count": 18,
   "id": "41eaa2d5",
   "metadata": {},
   "outputs": [
    {
     "data": {
      "text/plain": [
       "\"There's really no dislike for Alexa( dot) I thought cortna was cool but Alexa is an awesome application to the family. Unbelievable device which seems alive. A must get.\""
      ]
     },
     "execution_count": 18,
     "metadata": {},
     "output_type": "execute_result"
    }
   ],
   "source": [
    "dataset['verified_reviews'][500]"
   ]
  },
  {
   "cell_type": "code",
   "execution_count": 19,
   "id": "5e2ab88f",
   "metadata": {},
   "outputs": [
    {
     "name": "stdout",
     "output_type": "stream",
     "text": [
      "Sentiment(polarity=0.22000000000000003, subjectivity=0.65)\n"
     ]
    }
   ],
   "source": [
    "text_object = TextBlob(dataset['verified_reviews'][500])\n",
    "print(text_object.sentiment)"
   ]
  },
  {
   "cell_type": "markdown",
   "id": "d115db9b",
   "metadata": {},
   "source": [
    "The output shows that the review is positive with a high subjectivity."
   ]
  },
  {
   "cell_type": "markdown",
   "id": "550ff4ba",
   "metadata": {},
   "source": [
    "### Finding out sentiment polarity and adding it to our dataset"
   ]
  },
  {
   "cell_type": "code",
   "execution_count": 21,
   "id": "93d5bfab",
   "metadata": {},
   "outputs": [
    {
     "data": {
      "text/html": [
       "<div>\n",
       "<style scoped>\n",
       "    .dataframe tbody tr th:only-of-type {\n",
       "        vertical-align: middle;\n",
       "    }\n",
       "\n",
       "    .dataframe tbody tr th {\n",
       "        vertical-align: top;\n",
       "    }\n",
       "\n",
       "    .dataframe thead th {\n",
       "        text-align: right;\n",
       "    }\n",
       "</style>\n",
       "<table border=\"1\" class=\"dataframe\">\n",
       "  <thead>\n",
       "    <tr style=\"text-align: right;\">\n",
       "      <th></th>\n",
       "      <th>rating</th>\n",
       "      <th>variation</th>\n",
       "      <th>verified_reviews</th>\n",
       "      <th>feedback</th>\n",
       "      <th>Sentiment_Polarity</th>\n",
       "    </tr>\n",
       "  </thead>\n",
       "  <tbody>\n",
       "    <tr>\n",
       "      <th>0</th>\n",
       "      <td>5</td>\n",
       "      <td>Charcoal Fabric</td>\n",
       "      <td>Love my Echo!</td>\n",
       "      <td>pos</td>\n",
       "      <td>0.625000</td>\n",
       "    </tr>\n",
       "    <tr>\n",
       "      <th>1</th>\n",
       "      <td>5</td>\n",
       "      <td>Charcoal Fabric</td>\n",
       "      <td>Loved it!</td>\n",
       "      <td>pos</td>\n",
       "      <td>0.875000</td>\n",
       "    </tr>\n",
       "    <tr>\n",
       "      <th>2</th>\n",
       "      <td>4</td>\n",
       "      <td>Walnut Finish</td>\n",
       "      <td>Sometimes while playing a game, you can answer...</td>\n",
       "      <td>pos</td>\n",
       "      <td>-0.100000</td>\n",
       "    </tr>\n",
       "    <tr>\n",
       "      <th>3</th>\n",
       "      <td>5</td>\n",
       "      <td>Charcoal Fabric</td>\n",
       "      <td>I have had a lot of fun with this thing. My 4 ...</td>\n",
       "      <td>pos</td>\n",
       "      <td>0.350000</td>\n",
       "    </tr>\n",
       "    <tr>\n",
       "      <th>4</th>\n",
       "      <td>5</td>\n",
       "      <td>Charcoal Fabric</td>\n",
       "      <td>Music</td>\n",
       "      <td>pos</td>\n",
       "      <td>0.000000</td>\n",
       "    </tr>\n",
       "    <tr>\n",
       "      <th>5</th>\n",
       "      <td>5</td>\n",
       "      <td>Heather Gray Fabric</td>\n",
       "      <td>I received the echo as a gift. I needed anothe...</td>\n",
       "      <td>pos</td>\n",
       "      <td>0.294643</td>\n",
       "    </tr>\n",
       "    <tr>\n",
       "      <th>6</th>\n",
       "      <td>3</td>\n",
       "      <td>Sandstone Fabric</td>\n",
       "      <td>Without having a cellphone, I cannot use many ...</td>\n",
       "      <td>pos</td>\n",
       "      <td>0.216667</td>\n",
       "    </tr>\n",
       "    <tr>\n",
       "      <th>7</th>\n",
       "      <td>5</td>\n",
       "      <td>Charcoal Fabric</td>\n",
       "      <td>I think this is the 5th one I've purchased. I'...</td>\n",
       "      <td>pos</td>\n",
       "      <td>0.200000</td>\n",
       "    </tr>\n",
       "    <tr>\n",
       "      <th>8</th>\n",
       "      <td>5</td>\n",
       "      <td>Heather Gray Fabric</td>\n",
       "      <td>looks great</td>\n",
       "      <td>pos</td>\n",
       "      <td>0.800000</td>\n",
       "    </tr>\n",
       "    <tr>\n",
       "      <th>9</th>\n",
       "      <td>5</td>\n",
       "      <td>Heather Gray Fabric</td>\n",
       "      <td>Love it! I’ve listened to songs I haven’t hear...</td>\n",
       "      <td>pos</td>\n",
       "      <td>0.988281</td>\n",
       "    </tr>\n",
       "  </tbody>\n",
       "</table>\n",
       "</div>"
      ],
      "text/plain": [
       "   rating             variation  \\\n",
       "0       5      Charcoal Fabric    \n",
       "1       5      Charcoal Fabric    \n",
       "2       4        Walnut Finish    \n",
       "3       5      Charcoal Fabric    \n",
       "4       5      Charcoal Fabric    \n",
       "5       5  Heather Gray Fabric    \n",
       "6       3     Sandstone Fabric    \n",
       "7       5      Charcoal Fabric    \n",
       "8       5  Heather Gray Fabric    \n",
       "9       5  Heather Gray Fabric    \n",
       "\n",
       "                                    verified_reviews feedback  \\\n",
       "0                                      Love my Echo!      pos   \n",
       "1                                          Loved it!      pos   \n",
       "2  Sometimes while playing a game, you can answer...      pos   \n",
       "3  I have had a lot of fun with this thing. My 4 ...      pos   \n",
       "4                                              Music      pos   \n",
       "5  I received the echo as a gift. I needed anothe...      pos   \n",
       "6  Without having a cellphone, I cannot use many ...      pos   \n",
       "7  I think this is the 5th one I've purchased. I'...      pos   \n",
       "8                                        looks great      pos   \n",
       "9  Love it! I’ve listened to songs I haven’t hear...      pos   \n",
       "\n",
       "   Sentiment_Polarity  \n",
       "0            0.625000  \n",
       "1            0.875000  \n",
       "2           -0.100000  \n",
       "3            0.350000  \n",
       "4            0.000000  \n",
       "5            0.294643  \n",
       "6            0.216667  \n",
       "7            0.200000  \n",
       "8            0.800000  \n",
       "9            0.988281  "
      ]
     },
     "execution_count": 21,
     "metadata": {},
     "output_type": "execute_result"
    }
   ],
   "source": [
    "def polarity(review):\n",
    "    return TextBlob(review).sentiment.polarity\n",
    "\n",
    "dataset['Sentiment_Polarity'] = dataset['verified_reviews'].apply(polarity)\n",
    "dataset.head(10)"
   ]
  },
  {
   "cell_type": "markdown",
   "id": "e067e608",
   "metadata": {},
   "source": [
    "### Plotting the distribution of polarity"
   ]
  },
  {
   "cell_type": "code",
   "execution_count": 22,
   "id": "37dd8c80",
   "metadata": {},
   "outputs": [
    {
     "name": "stderr",
     "output_type": "stream",
     "text": [
      "/Users/leslie/opt/anaconda3/lib/python3.8/site-packages/seaborn/distributions.py:2557: FutureWarning: `distplot` is a deprecated function and will be removed in a future version. Please adapt your code to use either `displot` (a figure-level function with similar flexibility) or `histplot` (an axes-level function for histograms).\n",
      "  warnings.warn(msg, FutureWarning)\n"
     ]
    },
    {
     "data": {
      "text/plain": [
       "<AxesSubplot:xlabel='Sentiment_Polarity', ylabel='Density'>"
      ]
     },
     "execution_count": 22,
     "metadata": {},
     "output_type": "execute_result"
    },
    {
     "data": {
      "image/png": "[encoded data removed]",
      "text/plain": [
       "<Figure size 432x288 with 1 Axes>"
      ]
     },
     "metadata": {
      "needs_background": "light"
     },
     "output_type": "display_data"
    }
   ],
   "source": [
    "sns.distplot(dataset['Sentiment_Polarity'])"
   ]
  },
  {
   "cell_type": "markdown",
   "id": "66ec883c",
   "metadata": {},
   "source": [
    "### Plotting the average polarity for each rating"
   ]
  },
  {
   "cell_type": "code",
   "execution_count": 24,
   "id": "9e5f82f1",
   "metadata": {},
   "outputs": [
    {
     "data": {
      "text/plain": [
       "<AxesSubplot:xlabel='rating', ylabel='Sentiment_Polarity'>"
      ]
     },
     "execution_count": 24,
     "metadata": {},
     "output_type": "execute_result"
    },
    {
     "data": {
      "image/png": "[encoded data removed]",
      "text/plain": [
       "<Figure size 432x288 with 1 Axes>"
      ]
     },
     "metadata": {
      "needs_background": "light"
     },
     "output_type": "display_data"
    }
   ],
   "source": [
    "sns.barplot(x='rating', y='Sentiment_Polarity', data=dataset)"
   ]
  },
  {
   "cell_type": "markdown",
   "id": "dfd9c1c2",
   "metadata": {},
   "source": [
    "The highest the ratings, the highest the positive polarities"
   ]
  },
  {
   "cell_type": "markdown",
   "id": "283e14fe",
   "metadata": {},
   "source": [
    "### Finding the top 5 most negative reviews and most possitive reviews"
   ]
  },
  {
   "cell_type": "code",
   "execution_count": 29,
   "id": "25c918df",
   "metadata": {},
   "outputs": [
    {
     "name": "stdout",
     "output_type": "stream",
     "text": [
      "661     This Echo Dot is horrible. The volume on my ph...\n",
      "1340    Get rid of the &#34;Thongs To Try&#34; screen!...\n",
      "1386    Invasive and scared the crap out of me for spe...\n",
      "1903             Terrible. Stopped working after one day.\n",
      "Name: verified_reviews, dtype: object\n"
     ]
    }
   ],
   "source": [
    "#most negative\n",
    "most_negative = dataset[dataset.Sentiment_Polarity == -1].verified_reviews.head()\n",
    "print(most_negative)"
   ]
  },
  {
   "cell_type": "code",
   "execution_count": 30,
   "id": "5efda22c",
   "metadata": {},
   "outputs": [
    {
     "data": {
      "text/plain": [
       "'This Echo Dot is horrible. The volume on my phone is louder than than this device. My boss has one at this is not the case'"
      ]
     },
     "execution_count": 30,
     "metadata": {},
     "output_type": "execute_result"
    }
   ],
   "source": [
    "dataset['verified_reviews'][661]"
   ]
  },
  {
   "cell_type": "code",
   "execution_count": 31,
   "id": "f264f243",
   "metadata": {},
   "outputs": [
    {
     "data": {
      "text/plain": [
       "'Get rid of the &#34;Thongs To Try&#34; screen!!!!!!!!!! Numb nuts!!!!!'"
      ]
     },
     "execution_count": 31,
     "metadata": {},
     "output_type": "execute_result"
    }
   ],
   "source": [
    "dataset['verified_reviews'][1340]"
   ]
  },
  {
   "cell_type": "code",
   "execution_count": 32,
   "id": "949b27a9",
   "metadata": {},
   "outputs": [
    {
     "data": {
      "text/plain": [
       "'Invasive and scared the crap out of me for speaking when it was not spoken to! CREAPY AF'"
      ]
     },
     "execution_count": 32,
     "metadata": {},
     "output_type": "execute_result"
    }
   ],
   "source": [
    "dataset['verified_reviews'][1386]"
   ]
  },
  {
   "cell_type": "code",
   "execution_count": 33,
   "id": "34d9bc29",
   "metadata": {},
   "outputs": [
    {
     "data": {
      "text/plain": [
       "'Terrible. Stopped working after one day.'"
      ]
     },
     "execution_count": 33,
     "metadata": {},
     "output_type": "execute_result"
    }
   ],
   "source": [
    "dataset['verified_reviews'][1903]"
   ]
  },
  {
   "cell_type": "markdown",
   "id": "87999d2b",
   "metadata": {},
   "source": [
    "There are four highly negative reviews with the maximum negative polarity of -1"
   ]
  },
  {
   "cell_type": "code",
   "execution_count": 35,
   "id": "c066ff8a",
   "metadata": {},
   "outputs": [
    {
     "name": "stdout",
     "output_type": "stream",
     "text": [
      "34                               This device is awesome!\n",
      "75                                          It’s awesome\n",
      "82     Great technology!! Can't believe the speaker v...\n",
      "119         Excellent product, set up with ease as well.\n",
      "173    BEST father's day gift. Dad joked to my mom th...\n",
      "Name: verified_reviews, dtype: object\n"
     ]
    }
   ],
   "source": [
    "#most positive\n",
    "most_positive = dataset[dataset.Sentiment_Polarity == 1].verified_reviews.head()\n",
    "print(most_positive)"
   ]
  },
  {
   "cell_type": "code",
   "execution_count": 36,
   "id": "9032f3fa",
   "metadata": {},
   "outputs": [
    {
     "data": {
      "text/plain": [
       "\"Great technology!! Can't believe the speaker volume and quality is so wonderful. Wish I had bought another one!\""
      ]
     },
     "execution_count": 36,
     "metadata": {},
     "output_type": "execute_result"
    }
   ],
   "source": [
    "dataset['verified_reviews'][82]"
   ]
  },
  {
   "cell_type": "code",
   "execution_count": 37,
   "id": "6e058914",
   "metadata": {},
   "outputs": [
    {
     "data": {
      "text/plain": [
       "'Excellent product, set up with ease as well.'"
      ]
     },
     "execution_count": 37,
     "metadata": {},
     "output_type": "execute_result"
    }
   ],
   "source": [
    "dataset['verified_reviews'][119]"
   ]
  },
  {
   "cell_type": "code",
   "execution_count": 38,
   "id": "8c0383e8",
   "metadata": {},
   "outputs": [
    {
     "data": {
      "text/plain": [
       "\"BEST father's day gift. Dad joked to my mom that Alexa will be the one listening to all of his (repeated) stories going forward.\""
      ]
     },
     "execution_count": 38,
     "metadata": {},
     "output_type": "execute_result"
    }
   ],
   "source": [
    "dataset['verified_reviews'][173]"
   ]
  },
  {
   "cell_type": "markdown",
   "id": "d398b495",
   "metadata": {},
   "source": [
    "There are five highly positive reviews with the maximum positive polarity of +1"
   ]
  },
  {
   "cell_type": "markdown",
   "id": "016c3516",
   "metadata": {},
   "source": [
    "# Naive Bayes Text Classification Model"
   ]
  },
  {
   "cell_type": "markdown",
   "id": "f459ab45",
   "metadata": {},
   "source": [
    "### Partitioning the dataset"
   ]
  },
  {
   "cell_type": "code",
   "execution_count": 39,
   "id": "ac5eb714",
   "metadata": {},
   "outputs": [],
   "source": [
    "x = dataset['verified_reviews']\n",
    "y = dataset['feedback']\n",
    "x_train, x_test, y_train, y_test = train_test_split(x,y, test_size=.2)"
   ]
  },
  {
   "cell_type": "code",
   "execution_count": 40,
   "id": "6a15692d",
   "metadata": {},
   "outputs": [],
   "source": [
    "train = [x for x in zip(x_train,y_train)]\n",
    "test = [x for x in zip(x_test, y_test)]"
   ]
  },
  {
   "cell_type": "markdown",
   "id": "813bb9e7",
   "metadata": {},
   "source": [
    "### Creating Naive Bayes classifier & passing the train data to constructor"
   ]
  },
  {
   "cell_type": "code",
   "execution_count": 42,
   "id": "92772ec4",
   "metadata": {},
   "outputs": [],
   "source": [
    "classifier = NaiveBayesClassifier(train)"
   ]
  },
  {
   "cell_type": "markdown",
   "id": "19f7de13",
   "metadata": {},
   "source": [
    "### Evaluating accuracy of the algorithm on the test set"
   ]
  },
  {
   "cell_type": "code",
   "execution_count": 43,
   "id": "b694363d",
   "metadata": {},
   "outputs": [
    {
     "name": "stdout",
     "output_type": "stream",
     "text": [
      "0.8857142857142857\n"
     ]
    }
   ],
   "source": [
    "print(classifier.accuracy(test))"
   ]
  },
  {
   "cell_type": "markdown",
   "id": "27b8eba0",
   "metadata": {},
   "source": [
    "The Naive Bayes Model has 88.57% accuracy."
   ]
  },
  {
   "cell_type": "markdown",
   "id": "d2045859",
   "metadata": {},
   "source": [
    "### Finding the 20 most informative features"
   ]
  },
  {
   "cell_type": "code",
   "execution_count": 45,
   "id": "155497a9",
   "metadata": {},
   "outputs": [
    {
     "name": "stdout",
     "output_type": "stream",
     "text": [
      "Most Informative Features\n",
      "           contains(NOT) = True              neg : pos    =     61.4 : 1.0\n",
      "        contains(return) = True              neg : pos    =     49.9 : 1.0\n",
      "        contains(Things) = True              neg : pos    =     47.0 : 1.0\n",
      " contains(disappointing) = True              neg : pos    =     39.7 : 1.0\n",
      "           contains(fix) = True              neg : pos    =     36.9 : 1.0\n",
      "           contains(act) = True              neg : pos    =     32.5 : 1.0\n",
      "          contains(poor) = True              neg : pos    =     32.5 : 1.0\n",
      "         contains(spent) = True              neg : pos    =     32.5 : 1.0\n",
      "       contains(stopped) = True              neg : pos    =     32.5 : 1.0\n",
      "          contains(wall) = True              neg : pos    =     32.5 : 1.0\n",
      "      contains(terrible) = True              neg : pos    =     26.3 : 1.0\n",
      "         contains(Maybe) = True              neg : pos    =     25.3 : 1.0\n",
      "          contains(Siri) = True              neg : pos    =     25.3 : 1.0\n",
      "         contains(Tried) = True              neg : pos    =     25.3 : 1.0\n",
      "     contains(defective) = True              neg : pos    =     25.3 : 1.0\n",
      "       contains(neither) = True              neg : pos    =     25.3 : 1.0\n",
      "         contains(noise) = True              neg : pos    =     25.3 : 1.0\n",
      "        contains(starts) = True              neg : pos    =     25.3 : 1.0\n",
      "        contains(switch) = True              neg : pos    =     25.3 : 1.0\n",
      "      contains(warranty) = True              neg : pos    =     25.3 : 1.0\n"
     ]
    }
   ],
   "source": [
    "classifier.show_informative_features(20)"
   ]
  },
  {
   "cell_type": "markdown",
   "id": "174db8c1",
   "metadata": {},
   "source": [
    "Source: https://www.kaggle.com/khushi08/sentiment-analysis-of-alexa"
   ]
  },
  {
   "cell_type": "code",
   "execution_count": null,
   "id": "b95e7bd9",
   "metadata": {},
   "outputs": [],
   "source": []
  }
 ],
 "metadata": {
  "kernelspec": {
   "display_name": "Python 3",
   "language": "python",
   "name": "python3"
  },
  "language_info": {
   "codemirror_mode": {
    "name": "ipython",
    "version": 3
   },
   "file_extension": ".py",
   "mimetype": "text/x-python",
   "name": "python",
   "nbconvert_exporter": "python",
   "pygments_lexer": "ipython3",
   "version": "3.8.8"
  }
 },
 "nbformat": 4,
 "nbformat_minor": 5
}
